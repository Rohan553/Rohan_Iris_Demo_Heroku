{
 "cells": [
  {
   "cell_type": "code",
   "execution_count": 27,
   "metadata": {},
   "outputs": [
    {
     "name": "stdout",
     "output_type": "stream",
     "text": [
      "WARNING:tensorflow:Sequential models without an `input_shape` passed to the first layer cannot reload their optimizer state. As a result, your model isstarting with a freshly initialized optimizer.\n",
      " * Serving Flask app \"__main__\" (lazy loading)\n",
      " * Environment: production\n",
      "   WARNING: This is a development server. Do not use it in a production deployment.\n",
      "   Use a production WSGI server instead.\n",
      " * Debug mode: off\n"
     ]
    },
    {
     "name": "stderr",
     "output_type": "stream",
     "text": [
      " * Running on http://127.0.0.1:5000/ (Press CTRL+C to quit)\n",
      "127.0.0.1 - - [25/Jan/2021 01:02:05] \"\u001b[37mGET / HTTP/1.1\u001b[0m\" 200 -\n",
      "127.0.0.1 - - [25/Jan/2021 01:02:06] \"\u001b[37mGET /start_prediction HTTP/1.1\u001b[0m\" 200 -\n",
      "127.0.0.1 - - [25/Jan/2021 01:02:17] \"\u001b[37mPOST /prediction HTTP/1.1\u001b[0m\" 200 -\n",
      "127.0.0.1 - - [25/Jan/2021 01:02:18] \"\u001b[37mGET /start_prediction HTTP/1.1\u001b[0m\" 200 -\n",
      "127.0.0.1 - - [25/Jan/2021 01:02:31] \"\u001b[37mGET / HTTP/1.1\u001b[0m\" 200 -\n",
      "127.0.0.1 - - [25/Jan/2021 01:02:35] \"\u001b[37mGET /start_prediction HTTP/1.1\u001b[0m\" 200 -\n",
      "127.0.0.1 - - [25/Jan/2021 01:02:40] \"\u001b[37mGET / HTTP/1.1\u001b[0m\" 200 -\n"
     ]
    }
   ],
   "source": [
    "from flask import Flask , render_template , request , url_for\n",
    "import numpy as np\n",
    "import pandas as pd\n",
    "from tensorflow.keras.models import load_model\n",
    "import joblib\n",
    "df = pd.read_csv(\"iris.csv\")\n",
    "model = load_model(\"final_iris_rohan.h5\") \n",
    "scaler = joblib.load(\"scaler.pkl\")\n",
    "\n",
    "app = Flask(__name__)\n",
    "\n",
    "@app.route(\"/\")\n",
    "def welcome():\n",
    "    return render_template('Opening_page.html')\n",
    "\n",
    "@app.route(\"/start_prediction\")\n",
    "def prediction_page():\n",
    "    return render_template(\"1 model deployment roh.html\")\n",
    "\n",
    "@app.route(\"/prediction\" , methods = [\"GET\" , \"POST\"])\n",
    "def return_pred():\n",
    "    \n",
    "    if request.method == \"POST\":\n",
    "        try:\n",
    "            s_len = float(request.form[\"sep_len\"])\n",
    "            s_wid = float(request.form[\"sep_wid\"])\n",
    "            p_len = float(request.form[\"pet_len\"])\n",
    "            p_wid = float(request.form[\"pet_wid\"])\n",
    "\n",
    "            flower = [[s_len , s_wid , p_len , p_wid]]\n",
    "            classes = list(np.array(df[\"species\"].unique()))\n",
    "            flower = scaler.transform(flower)\n",
    "            class_ind = list(model.predict_classes(flower))[0]\n",
    "            class_result = classes[class_ind]\n",
    "            return render_template(\"pred output.html\" , class_result = class_result )\n",
    "        except:\n",
    "            return \"Wrong Entries\"\n",
    "\n",
    "    return render_template(\"1 model deployment roh.html\")\n",
    "\n",
    "if __name__ ==\"__main__\":\n",
    "    app.run()"
   ]
  },
  {
   "cell_type": "code",
   "execution_count": null,
   "metadata": {},
   "outputs": [],
   "source": []
  }
 ],
 "metadata": {
  "kernelspec": {
   "display_name": "Python 3",
   "language": "python",
   "name": "python3"
  },
  "language_info": {
   "codemirror_mode": {
    "name": "ipython",
    "version": 3
   },
   "file_extension": ".py",
   "mimetype": "text/x-python",
   "name": "python",
   "nbconvert_exporter": "python",
   "pygments_lexer": "ipython3",
   "version": "3.7.4"
  }
 },
 "nbformat": 4,
 "nbformat_minor": 2
}
